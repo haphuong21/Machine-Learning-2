{
  "nbformat": 4,
  "nbformat_minor": 0,
  "metadata": {
    "colab": {
      "name": "Week 1 PCA.ipynb",
      "provenance": []
    },
    "kernelspec": {
      "name": "python3",
      "display_name": "Python 3"
    },
    "language_info": {
      "name": "python"
    }
  },
  "cells": [
    {
      "cell_type": "markdown",
      "source": [
        "1. Create data and implement PCA algorithm then visualize each step like the below figure.\n",
        "2. Implement PCA algorithm to reduce dimension (2D) of iris dataset, then visualize  the result.\n",
        "3. Use PCA in sklearn to iris dataset and compare the result with the question 2"
      ],
      "metadata": {
        "id": "iJ474pFiWY7t"
      }
    },
    {
      "cell_type": "markdown",
      "source": [
        "## Ex1"
      ],
      "metadata": {
        "id": "Rusq5zfN8zFl"
      }
    },
    {
      "cell_type": "code",
      "source": [
        "%matplotlib inline\n",
        "import numpy as np\n",
        "import matplotlib.pyplot as plt\n",
        "import seaborn as sns; sns.set()\n",
        "import numpy as np"
      ],
      "metadata": {
        "id": "7FyWfqL69-zs"
      },
      "execution_count": 25,
      "outputs": []
    },
    {
      "cell_type": "code",
      "source": [
        "rng = np.random.RandomState(1)\n",
        "X = np.dot(rng.rand(2,2), rng.randn(2, 200)).T\n",
        "plt.scatter(X[:, 0], X[:, 1])\n",
        "plt.axis('equal')\n",
        "plt.show()"
      ],
      "metadata": {
        "colab": {
          "base_uri": "https://localhost:8080/",
          "height": 268
        },
        "id": "XHPnEYqX82hc",
        "outputId": "9b2f34f4-11a7-4dc2-9221-e5106cab7471"
      },
      "execution_count": 26,
      "outputs": [
        {
          "output_type": "display_data",
          "data": {
            "image/png": "[encoded data removed]",
            "text/plain": [
              "<Figure size 432x288 with 1 Axes>"
            ]
          },
          "metadata": {}
        }
      ]
    },
    {
      "cell_type": "code",
      "source": [
        "#Step-1\n",
        "X_std = (X - np.mean(X , axis = 0))/X.std(axis=0)\n",
        "plt.scatter(X_std[:, 0], X_std[:, 1])\n",
        "plt.axis('equal')\n",
        "plt.show()"
      ],
      "metadata": {
        "colab": {
          "base_uri": "https://localhost:8080/",
          "height": 268
        },
        "id": "fLj5tcU7B1BU",
        "outputId": "0251cfb9-19b3-455b-f8fb-d7c3a0d2f438"
      },
      "execution_count": 28,
      "outputs": [
        {
          "output_type": "display_data",
          "data": {
            "image/png": "[encoded data removed]",
            "text/plain": [
              "<Figure size 432x288 with 1 Axes>"
            ]
          },
          "metadata": {}
        }
      ]
    },
    {
      "cell_type": "code",
      "source": [
        "#Step-2 Calculate the covariance matrix\n",
        "cov_mat = np.cov(X_std.T)\n",
        "cov_mat"
      ],
      "metadata": {
        "id": "11YEet7QFmsW",
        "colab": {
          "base_uri": "https://localhost:8080/"
        },
        "outputId": "6c262bbc-b17d-4ba4-f26b-1f86677b0929"
      },
      "execution_count": 35,
      "outputs": [
        {
          "output_type": "execute_result",
          "data": {
            "text/plain": [
              "array([[1.00502513, 0.89385925],\n",
              "       [0.89385925, 1.00502513]])"
            ]
          },
          "metadata": {},
          "execution_count": 35
        }
      ]
    },
    {
      "cell_type": "code",
      "source": [
        "#Step-3: Compute Eigen Values and Eigen Vectors\n",
        "eig_val_cov, eig_vec_cov = np.linalg.eig(cov_mat)\n",
        "for i in range(len(eig_vec_cov)):\n",
        "    eigvec_cov = eig_vec_cov[:,i].reshape(1,2).T\n",
        "    print('Eigenvector {}: \\n{}'.format(i+1, eigvec_cov))\n",
        "    print('Eigenvalue {} from covariance matrix: {}'.format(i+1, eig_val_cov[i]))\n",
        "    print(40 * '-')"
      ],
      "metadata": {
        "colab": {
          "base_uri": "https://localhost:8080/"
        },
        "id": "vCUQUUUQFtks",
        "outputId": "b753ce83-5130-4779-95f2-65a91e88aae6"
      },
      "execution_count": 36,
      "outputs": [
        {
          "output_type": "stream",
          "name": "stdout",
          "text": [
            "Eigenvector 1: \n",
            "[[-0.70710678]\n",
            " [ 0.70710678]]\n",
            "Eigenvalue 1 from covariance matrix: 0.11116587537580591\n",
            "----------------------------------------\n",
            "Eigenvector 2: \n",
            "[[-0.70710678]\n",
            " [-0.70710678]]\n",
            "Eigenvalue 2 from covariance matrix: 1.898884375880475\n",
            "----------------------------------------\n"
          ]
        }
      ]
    },
    {
      "cell_type": "code",
      "source": [
        "# Step 4: Sort the eigenvectors by decreasing eigenvalues and choose the eigenvector with the largest eigenvalues to form a dimensional matrix W\n",
        "\n",
        "# Make a list of (eigenvalue, eigenvector) tuples\n",
        "eig_pairs = [(np.abs(eig_val_cov[i]), eig_vec_cov [:,i]) for i in range(len(eig_val_cov))]\n",
        "\n",
        "# Sort the (eigenvalue, eigenvector) tuples from high to low\n",
        "eig_pairs.sort(key=lambda x: x[0], reverse=True)\n",
        "\n",
        "# Visually confirm that the list is correctly sorted by decreasing eigenvalues\n",
        "for i in eig_pairs:\n",
        "    print(i[0])"
      ],
      "metadata": {
        "colab": {
          "base_uri": "https://localhost:8080/"
        },
        "outputId": "bebf5264-4c33-4215-b95c-6b1fed1ba8bf",
        "id": "BZEF5-7Peh48"
      },
      "execution_count": 37,
      "outputs": [
        {
          "output_type": "stream",
          "name": "stdout",
          "text": [
            "1.898884375880475\n",
            "0.11116587537580591\n"
          ]
        }
      ]
    },
    {
      "cell_type": "code",
      "source": [
        "matrix_w = np.hstack((eig_pairs[0][1].reshape(2,1),\n",
        "                      eig_pairs[1][1].reshape(2,1)))\n",
        "\n",
        "print('Matrix W:\\n', matrix_w)"
      ],
      "metadata": {
        "colab": {
          "base_uri": "https://localhost:8080/"
        },
        "id": "3ISiQPM1thIi",
        "outputId": "52e9f926-0f5a-4e9d-8ced-be22eb1b0708"
      },
      "execution_count": 38,
      "outputs": [
        {
          "output_type": "stream",
          "name": "stdout",
          "text": [
            "Matrix W:\n",
            " [[-0.70710678 -0.70710678]\n",
            " [-0.70710678  0.70710678]]\n"
          ]
        }
      ]
    },
    {
      "cell_type": "code",
      "source": [
        "matrix_w = np.hstack((eig_pairs[0][1].reshape(2,1)))\n",
        "\n",
        "print('Matrix W:\\n', matrix_w)"
      ],
      "metadata": {
        "colab": {
          "base_uri": "https://localhost:8080/"
        },
        "id": "elbsx3geusPt",
        "outputId": "370e13c2-08ae-4858-b1ad-7e932651a584"
      },
      "execution_count": 48,
      "outputs": [
        {
          "output_type": "stream",
          "name": "stdout",
          "text": [
            "Matrix W:\n",
            " [-0.70710678 -0.70710678]\n"
          ]
        }
      ]
    },
    {
      "cell_type": "code",
      "source": [
        "# Step 5 Transforming the samples onto the new subspace\n",
        "Y = X_std.dot(matrix_w)"
      ],
      "metadata": {
        "id": "-HDBIJvetqrT"
      },
      "execution_count": 49,
      "outputs": []
    },
    {
      "cell_type": "markdown",
      "source": [
        "## Ex 2"
      ],
      "metadata": {
        "id": "XJvwaFu-rpeY"
      }
    },
    {
      "cell_type": "code",
      "source": [
        "import pandas as pd\n",
        "import numpy as np \n",
        "import seaborn as sns\n",
        "import matplotlib.pyplot as plt\n",
        "%matplotlib inline\n",
        "\n",
        "import warnings\n",
        "warnings.filterwarnings('ignore')"
      ],
      "metadata": {
        "id": "6uxzp36qrxGI"
      },
      "execution_count": 13,
      "outputs": []
    },
    {
      "cell_type": "code",
      "source": [
        "iris = pd.read_csv(\"/content/IRIS.csv\")"
      ],
      "metadata": {
        "id": "BhH5pEcerymp"
      },
      "execution_count": 14,
      "outputs": []
    },
    {
      "cell_type": "code",
      "source": [
        "x = iris.drop(['species'],axis=1)\n",
        "y = iris.species\n",
        "\n",
        "#Scaling the Data\n",
        "from sklearn.preprocessing import StandardScaler\n",
        "x = StandardScaler().fit_transform(x)\n",
        "#Calculate the covariance matrix:\n",
        "iris_cov_matrix = np.cov(x.T)\n",
        "iris_cov_matrix"
      ],
      "metadata": {
        "colab": {
          "base_uri": "https://localhost:8080/"
        },
        "id": "9L_zZ-_0oHxk",
        "outputId": "fbaaa503-45e4-45b6-88d1-db1a4fd83f63"
      },
      "execution_count": 15,
      "outputs": [
        {
          "output_type": "execute_result",
          "data": {
            "text/plain": [
              "array([[ 1.00671141, -0.11010327,  0.87760486,  0.82344326],\n",
              "       [-0.11010327,  1.00671141, -0.42333835, -0.358937  ],\n",
              "       [ 0.87760486, -0.42333835,  1.00671141,  0.96921855],\n",
              "       [ 0.82344326, -0.358937  ,  0.96921855,  1.00671141]])"
            ]
          },
          "metadata": {},
          "execution_count": 15
        }
      ]
    },
    {
      "cell_type": "code",
      "source": [
        "x.shape"
      ],
      "metadata": {
        "colab": {
          "base_uri": "https://localhost:8080/"
        },
        "id": "JEISryyXs1ER",
        "outputId": "b8259c7e-fb55-407c-fd2b-ce46387aee88"
      },
      "execution_count": 30,
      "outputs": [
        {
          "output_type": "execute_result",
          "data": {
            "text/plain": [
              "(150, 4)"
            ]
          },
          "metadata": {},
          "execution_count": 30
        }
      ]
    },
    {
      "cell_type": "code",
      "source": [
        "#Calculating the eigenvalues and eigenvectors of the covariance matrix\n",
        "eig_vals, eig_vecs = np.linalg.eig(iris_cov_matrix)\n",
        "print('Eigenvalues \\n%s' %eig_vals)\n",
        "print('Eigenvectors \\n%s' %eig_vecs)"
      ],
      "metadata": {
        "colab": {
          "base_uri": "https://localhost:8080/"
        },
        "id": "kOY0gZvWoM2x",
        "outputId": "376f9d6b-0f18-4108-c3f1-f5a4f3c5d87e"
      },
      "execution_count": 17,
      "outputs": [
        {
          "output_type": "stream",
          "name": "stdout",
          "text": [
            "Eigenvalues \n",
            "[2.93035378 0.92740362 0.14834223 0.02074601]\n",
            "Eigenvectors \n",
            "[[ 0.52237162 -0.37231836 -0.72101681  0.26199559]\n",
            " [-0.26335492 -0.92555649  0.24203288 -0.12413481]\n",
            " [ 0.58125401 -0.02109478  0.14089226 -0.80115427]\n",
            " [ 0.56561105 -0.06541577  0.6338014   0.52354627]]\n"
          ]
        }
      ]
    },
    {
      "cell_type": "code",
      "source": [
        "#Sorting the list of eigenvalues in descending order\n",
        "eig_pairs = [(np.abs(eig_vals[i]), eig_vecs[:,i]) for i in range(len(eig_vals))]\n",
        "print('Eigenvalues in descending order:')\n",
        "for i in eig_pairs:\n",
        "    print(i[0])"
      ],
      "metadata": {
        "colab": {
          "base_uri": "https://localhost:8080/"
        },
        "id": "sOqi0vQ9oSw5",
        "outputId": "e6ce961a-af9a-4860-bb8a-7e79161e5370"
      },
      "execution_count": 18,
      "outputs": [
        {
          "output_type": "stream",
          "name": "stdout",
          "text": [
            "Eigenvalues in descending order:\n",
            "2.930353775589317\n",
            "0.9274036215173428\n",
            "0.14834222648163967\n",
            "0.020746013995595967\n"
          ]
        }
      ]
    },
    {
      "cell_type": "code",
      "source": [
        "total = sum(eig_vals)\n",
        "var_exp = [(i / total)*100 for i in sorted(eig_vals, reverse=True)]\n",
        "cum_var_exp = np.cumsum(var_exp)\n",
        "print('Variance captured by each component is \\n',var_exp)\n",
        "print('Cumulative variance captured as we travel with each component \\n',cum_var_exp)"
      ],
      "metadata": {
        "colab": {
          "base_uri": "https://localhost:8080/"
        },
        "id": "1PTz6QAGosi1",
        "outputId": "197054df-a7a2-49a6-dbf9-87dc9ec739ec"
      },
      "execution_count": 19,
      "outputs": [
        {
          "output_type": "stream",
          "name": "stdout",
          "text": [
            "Variance captured by each component is \n",
            " [72.77045209380132, 23.03052326768066, 3.6838319576273824, 0.5151926808906327]\n",
            "Cumulative variance captured as we travel with each component \n",
            " [ 72.77045209  95.80097536  99.48480732 100.        ]\n"
          ]
        }
      ]
    },
    {
      "cell_type": "markdown",
      "source": [
        "As we can see the first two componentes account nearly 96% of the total variance. If we only use this two components we are able to shrink the size of the dataset by half (2 instead of 4 columns)."
      ],
      "metadata": {
        "id": "-AZ58S27ovm8"
      }
    },
    {
      "cell_type": "code",
      "source": [
        "# Transforming the samples onto the new subspace\n",
        "matrix_w = np.hstack((eig_pairs[0][1].reshape(4,1),\n",
        "                      eig_pairs[1][1].reshape(4,1)))\n",
        "\n",
        "print('Matrix W:\\n', matrix_w)"
      ],
      "metadata": {
        "colab": {
          "base_uri": "https://localhost:8080/"
        },
        "id": "bNBpMlinowwN",
        "outputId": "dd2dec19-d0f5-42aa-f8a3-683cc7871ab5"
      },
      "execution_count": 20,
      "outputs": [
        {
          "output_type": "stream",
          "name": "stdout",
          "text": [
            "Matrix W:\n",
            " [[ 0.52237162 -0.37231836]\n",
            " [-0.26335492 -0.92555649]\n",
            " [ 0.58125401 -0.02109478]\n",
            " [ 0.56561105 -0.06541577]]\n"
          ]
        }
      ]
    },
    {
      "cell_type": "code",
      "source": [
        "Y = x.dot(matrix_w)"
      ],
      "metadata": {
        "id": "AdRylD73qbuQ"
      },
      "execution_count": 21,
      "outputs": []
    },
    {
      "cell_type": "code",
      "source": [
        "with plt.style.context('seaborn-whitegrid'):\n",
        "    plt.figure(figsize=(6, 4))\n",
        "    for lab, col in zip(('Iris-setosa', 'Iris-versicolor', 'Iris-virginica'),\n",
        "                        ('blue', 'red', 'green')):\n",
        "        plt.scatter(Y[y==lab, 0],\n",
        "                    Y[y==lab, 1],\n",
        "                    label=lab,\n",
        "                    c=col)\n",
        "    plt.xlabel('Principal Component 1')\n",
        "    plt.ylabel('Principal Component 2')\n",
        "    plt.legend(loc='lower center')\n",
        "    plt.tight_layout()\n",
        "    plt.show()"
      ],
      "metadata": {
        "colab": {
          "base_uri": "https://localhost:8080/",
          "height": 297
        },
        "id": "guVPkRZsqlgx",
        "outputId": "6e1da256-ed7d-464a-9418-a2d8b45f2c09"
      },
      "execution_count": 22,
      "outputs": [
        {
          "output_type": "display_data",
          "data": {
            "image/png": "[encoded data removed]",
            "text/plain": [
              "<Figure size 432x288 with 1 Axes>"
            ]
          },
          "metadata": {}
        }
      ]
    },
    {
      "cell_type": "markdown",
      "source": [
        "## Ex 3"
      ],
      "metadata": {
        "id": "tquxbsBpdhrk"
      }
    },
    {
      "cell_type": "code",
      "source": [
        "from sklearn.decomposition import PCA as sklearnPCA\n",
        "sklearn_pca = sklearnPCA(n_components=2)\n",
        "Y_sklearn = sklearn_pca.fit_transform(x)\n",
        "with plt.style.context('seaborn-whitegrid'):\n",
        "    plt.figure(figsize=(6, 4))\n",
        "    for lab, col in zip(('Iris-setosa', 'Iris-versicolor', 'Iris-virginica'),\n",
        "                        ('blue', 'red', 'green')):\n",
        "        plt.scatter(Y_sklearn[y==lab, 0],\n",
        "                    Y_sklearn[y==lab, 1],\n",
        "                    label=lab,\n",
        "                    c=col)\n",
        "    plt.xlabel('Principal Component 1')\n",
        "    plt.ylabel('Principal Component 2')\n",
        "    plt.legend(loc='upper center')\n",
        "    plt.tight_layout()\n",
        "    plt.show()"
      ],
      "metadata": {
        "colab": {
          "base_uri": "https://localhost:8080/",
          "height": 297
        },
        "id": "Q15D2arzbTrX",
        "outputId": "a9df487e-2dc0-4f0a-c2a2-b8486ae5c127"
      },
      "execution_count": 24,
      "outputs": [
        {
          "output_type": "display_data",
          "data": {
            "image/png": "[encoded data removed]",
            "text/plain": [
              "<Figure size 432x288 with 1 Axes>"
            ]
          },
          "metadata": {}
        }
      ]
    },
    {
      "cell_type": "markdown",
      "source": [
        "The three classes appear to be well separated! Iris-virginica and Iris-versicolor could be better separated."
      ],
      "metadata": {
        "id": "rBtOa23isUhR"
      }
    }
  ]
}