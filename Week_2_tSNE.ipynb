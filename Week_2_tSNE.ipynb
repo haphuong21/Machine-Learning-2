{
  "nbformat": 4,
  "nbformat_minor": 0,
  "metadata": {
    "colab": {
      "name": "Week 2_tSNE.ipynb",
      "provenance": []
    },
    "kernelspec": {
      "name": "python3",
      "display_name": "Python 3"
    },
    "language_info": {
      "name": "python"
    }
  },
  "cells": [
    {
      "cell_type": "markdown",
      "source": [
        "# Using library"
      ],
      "metadata": {
        "id": "kvuTWUcbjX2D"
      }
    },
    {
      "cell_type": "code",
      "execution_count": 2,
      "metadata": {
        "id": "hE_3FvWnD3db"
      },
      "outputs": [],
      "source": [
        "import matplotlib.pyplot as plt\n",
        "import seaborn as sns\n",
        "%matplotlib inline\n",
        "import pandas as pd"
      ]
    },
    {
      "cell_type": "code",
      "source": [
        "from sklearn.datasets import load_digits\n",
        "digits = load_digits()\n",
        "digits.data.shape"
      ],
      "metadata": {
        "colab": {
          "base_uri": "https://localhost:8080/"
        },
        "id": "ueLwCTTNjekK",
        "outputId": "d155df9c-62c9-4887-8d3d-77f41c5e8bc9"
      },
      "execution_count": 3,
      "outputs": [
        {
          "output_type": "execute_result",
          "data": {
            "text/plain": [
              "(1797, 64)"
            ]
          },
          "metadata": {},
          "execution_count": 3
        }
      ]
    },
    {
      "cell_type": "code",
      "source": [
        "#subset the data so that we can do the tSNE faster\n",
        "data_X = digits.data[:600]\n",
        "y = digits.target[:600]"
      ],
      "metadata": {
        "id": "Lsfe6jeDjl-i"
      },
      "execution_count": null,
      "outputs": []
    },
    {
      "cell_type": "code",
      "source": [
        "from sklearn.manifold import TSNE\n",
        "tsne = TSNE(n_components=2, random_state=0)\n",
        "tsne_obj= tsne.fit_transform(data_X)"
      ],
      "metadata": {
        "colab": {
          "base_uri": "https://localhost:8080/"
        },
        "id": "N4vLAqkmjuSE",
        "outputId": "4871d4ca-135c-40c1-e9a3-6c0c1eb48ec5"
      },
      "execution_count": null,
      "outputs": [
        {
          "output_type": "stream",
          "name": "stderr",
          "text": [
            "/usr/local/lib/python3.7/dist-packages/sklearn/manifold/_t_sne.py:783: FutureWarning: The default initialization in TSNE will change from 'random' to 'pca' in 1.2.\n",
            "  FutureWarning,\n",
            "/usr/local/lib/python3.7/dist-packages/sklearn/manifold/_t_sne.py:793: FutureWarning: The default learning rate in TSNE will change from 200.0 to 'auto' in 1.2.\n",
            "  FutureWarning,\n"
          ]
        }
      ]
    },
    {
      "cell_type": "code",
      "source": [
        "tsne_df = pd.DataFrame({'X':tsne_obj[:,0],\n",
        "                        'Y':tsne_obj[:,1],\n",
        "                        'digit':y})\n",
        "tsne_df.head(10)"
      ],
      "metadata": {
        "colab": {
          "base_uri": "https://localhost:8080/",
          "height": 363
        },
        "id": "WxRnhx5rjxXH",
        "outputId": "e67dffd1-e9ac-4998-9d31-734e5b07408b"
      },
      "execution_count": null,
      "outputs": [
        {
          "output_type": "execute_result",
          "data": {
            "text/html": [
              "\n",
              "  <div id=\"df-f5432a9a-0abe-46f1-b3c6-30c2244890bb\">\n",
              "    <div class=\"colab-df-container\">\n",
              "      <div>\n",
              "<style scoped>\n",
              "    .dataframe tbody tr th:only-of-type {\n",
              "        vertical-align: middle;\n",
              "    }\n",
              "\n",
              "    .dataframe tbody tr th {\n",
              "        vertical-align: top;\n",
              "    }\n",
              "\n",
              "    .dataframe thead th {\n",
              "        text-align: right;\n",
              "    }\n",
              "</style>\n",
              "<table border=\"1\" class=\"dataframe\">\n",
              "  <thead>\n",
              "    <tr style=\"text-align: right;\">\n",
              "      <th></th>\n",
              "      <th>X</th>\n",
              "      <th>Y</th>\n",
              "      <th>digit</th>\n",
              "    </tr>\n",
              "  </thead>\n",
              "  <tbody>\n",
              "    <tr>\n",
              "      <th>0</th>\n",
              "      <td>37.739208</td>\n",
              "      <td>-18.806787</td>\n",
              "      <td>0</td>\n",
              "    </tr>\n",
              "    <tr>\n",
              "      <th>1</th>\n",
              "      <td>-18.368181</td>\n",
              "      <td>-0.344644</td>\n",
              "      <td>1</td>\n",
              "    </tr>\n",
              "    <tr>\n",
              "      <th>2</th>\n",
              "      <td>-8.307429</td>\n",
              "      <td>-4.497315</td>\n",
              "      <td>2</td>\n",
              "    </tr>\n",
              "    <tr>\n",
              "      <th>3</th>\n",
              "      <td>21.946308</td>\n",
              "      <td>4.991001</td>\n",
              "      <td>3</td>\n",
              "    </tr>\n",
              "    <tr>\n",
              "      <th>4</th>\n",
              "      <td>-29.894304</td>\n",
              "      <td>4.160649</td>\n",
              "      <td>4</td>\n",
              "    </tr>\n",
              "    <tr>\n",
              "      <th>5</th>\n",
              "      <td>16.611729</td>\n",
              "      <td>3.040757</td>\n",
              "      <td>5</td>\n",
              "    </tr>\n",
              "    <tr>\n",
              "      <th>6</th>\n",
              "      <td>-12.899954</td>\n",
              "      <td>-28.678867</td>\n",
              "      <td>6</td>\n",
              "    </tr>\n",
              "    <tr>\n",
              "      <th>7</th>\n",
              "      <td>-11.442452</td>\n",
              "      <td>21.588341</td>\n",
              "      <td>7</td>\n",
              "    </tr>\n",
              "    <tr>\n",
              "      <th>8</th>\n",
              "      <td>-3.532671</td>\n",
              "      <td>1.733132</td>\n",
              "      <td>8</td>\n",
              "    </tr>\n",
              "    <tr>\n",
              "      <th>9</th>\n",
              "      <td>10.807392</td>\n",
              "      <td>0.052017</td>\n",
              "      <td>9</td>\n",
              "    </tr>\n",
              "  </tbody>\n",
              "</table>\n",
              "</div>\n",
              "      <button class=\"colab-df-convert\" onclick=\"convertToInteractive('df-f5432a9a-0abe-46f1-b3c6-30c2244890bb')\"\n",
              "              title=\"Convert this dataframe to an interactive table.\"\n",
              "              style=\"display:none;\">\n",
              "        \n",
              "  <svg xmlns=\"http://www.w3.org/2000/svg\" height=\"24px\"viewBox=\"0 0 24 24\"\n",
              "       width=\"24px\">\n",
              "    <path d=\"M0 0h24v24H0V0z\" fill=\"none\"/>\n",
              "    <path d=\"M18.56 5.44l.94 2.06.94-2.06 2.06-.94-2.06-.94-.94-2.06-.94 2.06-2.06.94zm-11 1L8.5 8.5l.94-2.06 2.06-.94-2.06-.94L8.5 2.5l-.94 2.06-2.06.94zm10 10l.94 2.06.94-2.06 2.06-.94-2.06-.94-.94-2.06-.94 2.06-2.06.94z\"/><path d=\"M17.41 7.96l-1.37-1.37c-.4-.4-.92-.59-1.43-.59-.52 0-1.04.2-1.43.59L10.3 9.45l-7.72 7.72c-.78.78-.78 2.05 0 2.83L4 21.41c.39.39.9.59 1.41.59.51 0 1.02-.2 1.41-.59l7.78-7.78 2.81-2.81c.8-.78.8-2.07 0-2.86zM5.41 20L4 18.59l7.72-7.72 1.47 1.35L5.41 20z\"/>\n",
              "  </svg>\n",
              "      </button>\n",
              "      \n",
              "  <style>\n",
              "    .colab-df-container {\n",
              "      display:flex;\n",
              "      flex-wrap:wrap;\n",
              "      gap: 12px;\n",
              "    }\n",
              "\n",
              "    .colab-df-convert {\n",
              "      background-color: #E8F0FE;\n",
              "      border: none;\n",
              "      border-radius: 50%;\n",
              "      cursor: pointer;\n",
              "      display: none;\n",
              "      fill: #1967D2;\n",
              "      height: 32px;\n",
              "      padding: 0 0 0 0;\n",
              "      width: 32px;\n",
              "    }\n",
              "\n",
              "    .colab-df-convert:hover {\n",
              "      background-color: #E2EBFA;\n",
              "      box-shadow: 0px 1px 2px rgba(60, 64, 67, 0.3), 0px 1px 3px 1px rgba(60, 64, 67, 0.15);\n",
              "      fill: #174EA6;\n",
              "    }\n",
              "\n",
              "    [theme=dark] .colab-df-convert {\n",
              "      background-color: #3B4455;\n",
              "      fill: #D2E3FC;\n",
              "    }\n",
              "\n",
              "    [theme=dark] .colab-df-convert:hover {\n",
              "      background-color: #434B5C;\n",
              "      box-shadow: 0px 1px 3px 1px rgba(0, 0, 0, 0.15);\n",
              "      filter: drop-shadow(0px 1px 2px rgba(0, 0, 0, 0.3));\n",
              "      fill: #FFFFFF;\n",
              "    }\n",
              "  </style>\n",
              "\n",
              "      <script>\n",
              "        const buttonEl =\n",
              "          document.querySelector('#df-f5432a9a-0abe-46f1-b3c6-30c2244890bb button.colab-df-convert');\n",
              "        buttonEl.style.display =\n",
              "          google.colab.kernel.accessAllowed ? 'block' : 'none';\n",
              "\n",
              "        async function convertToInteractive(key) {\n",
              "          const element = document.querySelector('#df-f5432a9a-0abe-46f1-b3c6-30c2244890bb');\n",
              "          const dataTable =\n",
              "            await google.colab.kernel.invokeFunction('convertToInteractive',\n",
              "                                                     [key], {});\n",
              "          if (!dataTable) return;\n",
              "\n",
              "          const docLinkHtml = 'Like what you see? Visit the ' +\n",
              "            '<a target=\"_blank\" href=https://colab.research.google.com/notebooks/data_table.ipynb>data table notebook</a>'\n",
              "            + ' to learn more about interactive tables.';\n",
              "          element.innerHTML = '';\n",
              "          dataTable['output_type'] = 'display_data';\n",
              "          await google.colab.output.renderOutput(dataTable, element);\n",
              "          const docLink = document.createElement('div');\n",
              "          docLink.innerHTML = docLinkHtml;\n",
              "          element.appendChild(docLink);\n",
              "        }\n",
              "      </script>\n",
              "    </div>\n",
              "  </div>\n",
              "  "
            ],
            "text/plain": [
              "           X          Y  digit\n",
              "0  37.739208 -18.806787      0\n",
              "1 -18.368181  -0.344644      1\n",
              "2  -8.307429  -4.497315      2\n",
              "3  21.946308   4.991001      3\n",
              "4 -29.894304   4.160649      4\n",
              "5  16.611729   3.040757      5\n",
              "6 -12.899954 -28.678867      6\n",
              "7 -11.442452  21.588341      7\n",
              "8  -3.532671   1.733132      8\n",
              "9  10.807392   0.052017      9"
            ]
          },
          "metadata": {},
          "execution_count": 7
        }
      ]
    },
    {
      "cell_type": "code",
      "source": [
        "sns.scatterplot(x=\"X\", y=\"Y\",\n",
        "              hue=\"digit\",\n",
        "              palette=['purple','red','orange','brown','blue',\n",
        "                       'dodgerblue','green','lightgreen','darkcyan', 'black'],\n",
        "              legend='full',\n",
        "              data=tsne_df);"
      ],
      "metadata": {
        "colab": {
          "base_uri": "https://localhost:8080/",
          "height": 282
        },
        "id": "8AfV-pdikBR1",
        "outputId": "c51dd27b-67a6-428a-d8d0-542e29132502"
      },
      "execution_count": null,
      "outputs": [
        {
          "output_type": "display_data",
          "data": {
            "image/png": "[encoded data removed]",
            "text/plain": [
              "<Figure size 432x288 with 1 Axes>"
            ]
          },
          "metadata": {
            "needs_background": "light"
          }
        }
      ]
    },
    {
      "cell_type": "markdown",
      "source": [
        "tSNE nicely captured the patterns in our data. Same digits are mostly in the same cluster."
      ],
      "metadata": {
        "id": "MCbiIiIPkRxr"
      }
    },
    {
      "cell_type": "markdown",
      "source": [
        "# Implement"
      ],
      "metadata": {
        "id": "gV3ZO_SJkY17"
      }
    },
    {
      "cell_type": "code",
      "source": [
        "import numpy as np\n",
        "import pylab\n",
        "\n",
        "def Hbeta(D, beta=1.0):\n",
        "    \"\"\"\n",
        "        Compute the perplexity and the P-row for a specific value of the\n",
        "        precision of a Gaussian distribution.\n",
        "    \"\"\"\n",
        "\n",
        "    # Compute P-row and corresponding perplexity\n",
        "    P = np.exp(-D.copy() * beta)\n",
        "    sumP = sum(P)\n",
        "    H = np.log(sumP) + beta * np.sum(D * P) / sumP\n",
        "    P = P / sumP\n",
        "    return H, P\n",
        "\n",
        "\n",
        "def x2p(X, tol=1e-5, perplexity=30.0):\n",
        "    \"\"\"\n",
        "        Performs a binary search to get P-values in such a way that each\n",
        "        conditional Gaussian has the same perplexity.\n",
        "    \"\"\"\n",
        "\n",
        "    # Initialize some variables\n",
        "    print(\"Computing pairwise distances...\")\n",
        "    (n, d) = X.shape\n",
        "    sum_X = np.sum(np.square(X), 1)\n",
        "    D = np.add(np.add(-2 * np.dot(X, X.T), sum_X).T, sum_X)\n",
        "    P = np.zeros((n, n))\n",
        "    beta = np.ones((n, 1))\n",
        "    logU = np.log(perplexity)\n",
        "\n",
        "    # Loop over all datapoints\n",
        "    for i in range(n):\n",
        "\n",
        "        # Print progress\n",
        "        if i % 500 == 0:\n",
        "            print(\"Computing P-values for point %d of %d...\" % (i, n))\n",
        "\n",
        "        # Compute the Gaussian kernel and entropy for the current precision\n",
        "        betamin = -np.inf\n",
        "        betamax = np.inf\n",
        "        Di = D[i, np.concatenate((np.r_[0:i], np.r_[i+1:n]))]\n",
        "        (H, thisP) = Hbeta(Di, beta[i])\n",
        "\n",
        "        # Evaluate whether the perplexity is within tolerance\n",
        "        Hdiff = H - logU\n",
        "        tries = 0\n",
        "        while np.abs(Hdiff) > tol and tries < 50:\n",
        "\n",
        "            # If not, increase or decrease precision\n",
        "            if Hdiff > 0:\n",
        "                betamin = beta[i].copy()\n",
        "                if betamax == np.inf or betamax == -np.inf:\n",
        "                    beta[i] = beta[i] * 2.\n",
        "                else:\n",
        "                    beta[i] = (beta[i] + betamax) / 2.\n",
        "            else:\n",
        "                betamax = beta[i].copy()\n",
        "                if betamin == np.inf or betamin == -np.inf:\n",
        "                    beta[i] = beta[i] / 2.\n",
        "                else:\n",
        "                    beta[i] = (beta[i] + betamin) / 2.\n",
        "\n",
        "            # Recompute the values\n",
        "            (H, thisP) = Hbeta(Di, beta[i])\n",
        "            Hdiff = H - logU\n",
        "            tries += 1\n",
        "\n",
        "        # Set the final row of P\n",
        "        P[i, np.concatenate((np.r_[0:i], np.r_[i+1:n]))] = thisP\n",
        "\n",
        "    # Return final P-matrix\n",
        "    print(\"Mean value of sigma: %f\" % np.mean(np.sqrt(1 / beta)))\n",
        "    return P\n",
        "\n",
        "\n",
        "def pca(X , no_dims=50):\n",
        "    \"\"\"\n",
        "        Runs PCA on the NxD array X in order to reduce its dimensionality to\n",
        "        no_dims dimensions.\n",
        "    \"\"\"\n",
        "\n",
        "    print(\"Preprocessing the data using PCA...\")\n",
        "    (n, d) = X.shape\n",
        "    X = X - np.tile(np.mean(X, 0), (n, 1))\n",
        "    (l, M) = np.linalg.eig(np.dot(X.T, X))\n",
        "    Y = np.dot(X, M[:, 0:no_dims])\n",
        "    return Y\n",
        "\n",
        "\n",
        "def tsne(X, no_dims=2, initial_dims=50, perplexity=30.0):\n",
        "    \"\"\"\n",
        "        Runs t-SNE on the dataset in the NxD array X to reduce its\n",
        "        dimensionality to no_dims dimensions. The syntaxis of the function is\n",
        "        `Y = tsne.tsne(X, no_dims, perplexity), where X is an NxD NumPy array.\n",
        "    \"\"\"\n",
        "\n",
        "    # Check inputs\n",
        "    if isinstance(no_dims, float):\n",
        "        print(\"Error: array X should have type float.\")\n",
        "        return -1\n",
        "    if round(no_dims) != no_dims:\n",
        "        print(\"Error: number of dimensions should be an integer.\")\n",
        "        return -1\n",
        "\n",
        "    # Initialize variables\n",
        "    X = pca(X, initial_dims).real\n",
        "    (n, d) = X.shape\n",
        "    max_iter = 1000\n",
        "    initial_momentum = 0.5\n",
        "    final_momentum = 0.8\n",
        "    eta = 500\n",
        "    min_gain = 0.01\n",
        "    Y = np.random.randn(n, no_dims)\n",
        "    dY = np.zeros((n, no_dims))\n",
        "    iY = np.zeros((n, no_dims))\n",
        "    gains = np.ones((n, no_dims))\n",
        "\n",
        "    # Compute P-values\n",
        "    P = x2p(X, 1e-5, perplexity)\n",
        "    P = P + np.transpose(P)\n",
        "    P = P / np.sum(P)\n",
        "    P = P * 4.\t\t\t\t\t\t\t\t\t# early exaggeration\n",
        "    P = np.maximum(P, 1e-12)\n",
        "\n",
        "    # Run iterations\n",
        "    for iter in range(max_iter):\n",
        "\n",
        "        # Compute pairwise affinities\n",
        "        sum_Y = np.sum(np.square(Y), 1)\n",
        "        num = -2. * np.dot(Y, Y.T)\n",
        "        num = 1. / (1. + np.add(np.add(num, sum_Y).T, sum_Y))\n",
        "        num[range(n), range(n)] = 0.\n",
        "        Q = num / np.sum(num)\n",
        "        Q = np.maximum(Q, 1e-12)\n",
        "\n",
        "        # Compute gradient\n",
        "        PQ = P - Q\n",
        "        for i in range(n):\n",
        "            dY[i, :] = np.sum(np.tile(PQ[:, i] * num[:, i], (no_dims, 1)).T * (Y[i, :] - Y), 0)\n",
        "\n",
        "        # Perform the update\n",
        "        if iter < 20:\n",
        "            momentum = initial_momentum\n",
        "        else:\n",
        "            momentum = final_momentum\n",
        "        gains = (gains + 0.2) * ((dY > 0.) != (iY > 0.)) + \\\n",
        "                (gains * 0.8) * ((dY > 0.) == (iY > 0.))\n",
        "        gains[gains < min_gain] = min_gain\n",
        "        iY = momentum * iY - eta * (gains * dY)\n",
        "        Y = Y + iY\n",
        "        Y = Y - np.tile(np.mean(Y, 0), (n, 1))\n",
        "\n",
        "        # Compute current value of cost function\n",
        "        if (iter + 1) % 10 == 0:\n",
        "            C = np.sum(P * np.log(P / Q))\n",
        "            print(\"Iteration %d: error is %f\" % (iter + 1, C))\n",
        "\n",
        "        # Stop lying about P-values\n",
        "        if iter == 100:\n",
        "            P = P / 4.\n",
        "\n",
        "    # Return solution\n",
        "    return Y"
      ],
      "metadata": {
        "id": "Hi2RdwwtkMdr"
      },
      "execution_count": 1,
      "outputs": []
    },
    {
      "cell_type": "code",
      "source": [
        "digits = load_digits()\n",
        "data_X = digits.data[:]\n",
        "y = digits.target[:]"
      ],
      "metadata": {
        "id": "yMtNGxX18HdT"
      },
      "execution_count": 4,
      "outputs": []
    },
    {
      "cell_type": "code",
      "source": [
        "    Y = tsne(data_X, 2, 50, 20.0)\n",
        "    pylab.scatter(Y[:, 0], Y[:, 1], 20, y)\n",
        "    pylab.show()"
      ],
      "metadata": {
        "id": "CoE7SF6e2lJG",
        "colab": {
          "base_uri": "https://localhost:8080/",
          "height": 1000
        },
        "outputId": "6be049cd-a6f0-41ed-fae1-3de686830b17"
      },
      "execution_count": 7,
      "outputs": [
        {
          "output_type": "stream",
          "name": "stdout",
          "text": [
            "Preprocessing the data using PCA...\n",
            "Computing pairwise distances...\n",
            "Computing P-values for point 0 of 1797...\n",
            "Computing P-values for point 500 of 1797...\n"
          ]
        },
        {
          "output_type": "stream",
          "name": "stderr",
          "text": [
            "/usr/local/lib/python3.7/dist-packages/ipykernel_launcher.py:13: RuntimeWarning: divide by zero encountered in log\n",
            "  del sys.path[0]\n",
            "/usr/local/lib/python3.7/dist-packages/ipykernel_launcher.py:13: RuntimeWarning: invalid value encountered in true_divide\n",
            "  del sys.path[0]\n",
            "/usr/local/lib/python3.7/dist-packages/ipykernel_launcher.py:14: RuntimeWarning: invalid value encountered in true_divide\n",
            "  \n"
          ]
        },
        {
          "output_type": "stream",
          "name": "stdout",
          "text": [
            "Computing P-values for point 1000 of 1797...\n",
            "Computing P-values for point 1500 of 1797...\n",
            "Mean value of sigma: 10.619533\n",
            "Iteration 10: error is nan\n",
            "Iteration 20: error is nan\n",
            "Iteration 30: error is nan\n",
            "Iteration 40: error is nan\n",
            "Iteration 50: error is nan\n",
            "Iteration 60: error is nan\n",
            "Iteration 70: error is nan\n",
            "Iteration 80: error is nan\n",
            "Iteration 90: error is nan\n",
            "Iteration 100: error is nan\n",
            "Iteration 110: error is nan\n",
            "Iteration 120: error is nan\n",
            "Iteration 130: error is nan\n",
            "Iteration 140: error is nan\n",
            "Iteration 150: error is nan\n",
            "Iteration 160: error is nan\n",
            "Iteration 170: error is nan\n",
            "Iteration 180: error is nan\n",
            "Iteration 190: error is nan\n",
            "Iteration 200: error is nan\n",
            "Iteration 210: error is nan\n",
            "Iteration 220: error is nan\n",
            "Iteration 230: error is nan\n",
            "Iteration 240: error is nan\n",
            "Iteration 250: error is nan\n",
            "Iteration 260: error is nan\n",
            "Iteration 270: error is nan\n",
            "Iteration 280: error is nan\n",
            "Iteration 290: error is nan\n",
            "Iteration 300: error is nan\n",
            "Iteration 310: error is nan\n",
            "Iteration 320: error is nan\n",
            "Iteration 330: error is nan\n",
            "Iteration 340: error is nan\n",
            "Iteration 350: error is nan\n",
            "Iteration 360: error is nan\n",
            "Iteration 370: error is nan\n",
            "Iteration 380: error is nan\n",
            "Iteration 390: error is nan\n",
            "Iteration 400: error is nan\n",
            "Iteration 410: error is nan\n",
            "Iteration 420: error is nan\n",
            "Iteration 430: error is nan\n",
            "Iteration 440: error is nan\n",
            "Iteration 450: error is nan\n",
            "Iteration 460: error is nan\n",
            "Iteration 470: error is nan\n",
            "Iteration 480: error is nan\n",
            "Iteration 490: error is nan\n",
            "Iteration 500: error is nan\n",
            "Iteration 510: error is nan\n",
            "Iteration 520: error is nan\n",
            "Iteration 530: error is nan\n",
            "Iteration 540: error is nan\n",
            "Iteration 550: error is nan\n",
            "Iteration 560: error is nan\n",
            "Iteration 570: error is nan\n",
            "Iteration 580: error is nan\n",
            "Iteration 590: error is nan\n",
            "Iteration 600: error is nan\n",
            "Iteration 610: error is nan\n",
            "Iteration 620: error is nan\n",
            "Iteration 630: error is nan\n",
            "Iteration 640: error is nan\n",
            "Iteration 650: error is nan\n",
            "Iteration 660: error is nan\n",
            "Iteration 670: error is nan\n",
            "Iteration 680: error is nan\n",
            "Iteration 690: error is nan\n",
            "Iteration 700: error is nan\n",
            "Iteration 710: error is nan\n",
            "Iteration 720: error is nan\n",
            "Iteration 730: error is nan\n",
            "Iteration 740: error is nan\n",
            "Iteration 750: error is nan\n",
            "Iteration 760: error is nan\n",
            "Iteration 770: error is nan\n",
            "Iteration 780: error is nan\n",
            "Iteration 790: error is nan\n",
            "Iteration 800: error is nan\n",
            "Iteration 810: error is nan\n",
            "Iteration 820: error is nan\n",
            "Iteration 830: error is nan\n",
            "Iteration 840: error is nan\n",
            "Iteration 850: error is nan\n",
            "Iteration 860: error is nan\n",
            "Iteration 870: error is nan\n",
            "Iteration 880: error is nan\n",
            "Iteration 890: error is nan\n",
            "Iteration 900: error is nan\n",
            "Iteration 910: error is nan\n",
            "Iteration 920: error is nan\n",
            "Iteration 930: error is nan\n",
            "Iteration 940: error is nan\n",
            "Iteration 950: error is nan\n",
            "Iteration 960: error is nan\n",
            "Iteration 970: error is nan\n",
            "Iteration 980: error is nan\n",
            "Iteration 990: error is nan\n",
            "Iteration 1000: error is nan\n"
          ]
        },
        {
          "output_type": "stream",
          "name": "stderr",
          "text": [
            "<string>:6: UserWarning: Warning: converting a masked element to nan.\n",
            "/usr/local/lib/python3.7/dist-packages/numpy/core/_asarray.py:83: UserWarning: Warning: converting a masked element to nan.\n",
            "  return array(a, dtype, copy=False, order=order)\n"
          ]
        },
        {
          "output_type": "display_data",
          "data": {
            "image/png": "[encoded data removed]",
            "text/plain": [
              "<Figure size 432x288 with 1 Axes>"
            ]
          },
          "metadata": {
            "needs_background": "light"
          }
        }
      ]
    },
    {
      "cell_type": "code",
      "source": [
        ""
      ],
      "metadata": {
        "id": "HH7Qdw8VxrwE"
      },
      "execution_count": null,
      "outputs": []
    }
  ]
}